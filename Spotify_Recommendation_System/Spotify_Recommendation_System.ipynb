{
 "cells": [
  {
   "cell_type": "code",
   "execution_count": 1,
   "id": "143dafb7-c147-4318-ab2a-f64d8771b903",
   "metadata": {},
   "outputs": [],
   "source": [
    "import requests\n",
    "from bs4 import BeautifulSoup\n",
    "import spotipy\n",
    "from spotipy.oauth2 import SpotifyOAuth\n",
    "import pandas as pd\n",
    "from sklearn.neighbors import NearestNeighbors\n",
    "import numpy as np"
   ]
  },
  {
   "cell_type": "code",
   "execution_count": 2,
   "id": "dab23dc5-f0ee-492b-b173-d91027beb4e5",
   "metadata": {},
   "outputs": [],
   "source": [
    "CLIENT_ID = \"Write your Client ID of spotify here\"\n",
    "CLIENT_SECRET = \"Write your Client Secret code of spotify here\""
   ]
  },
  {
   "cell_type": "code",
   "execution_count": null,
   "id": "11cafbe5-78ec-42d8-9ed5-00cd01b09cad",
   "metadata": {},
   "outputs": [],
   "source": [
    "# Scraping Billboard 100\n",
    "date = input(\"Which era of music would you like to explore? Enter the date in the format YYYY-MM-DD to uncover the top songs from that time! \")\n",
    "URL = f\"https://www.billboard.com/charts/hot-100/{date}/\"\n",
    "response = requests.get(URL)\n",
    "soup = BeautifulSoup(response.text, 'html.parser')\n",
    "songs = soup.find_all(name=\"h3\", id=\"title-of-a-story\", class_=\"c-title a-no-trucate a-font-primary-bold-s u-letter-spacing-0021 lrv-u-font-size-18@tablet lrv-u-font-size-16 u-line-height-125 u-line-height-normal@mobile-max a-truncate-ellipsis u-max-width-330 u-max-width-230@tablet-only\")\n",
    "song_names = [song.getText().strip(\"\\n\\t\") for song in songs]"
   ]
  },
  {
   "cell_type": "code",
   "execution_count": null,
   "id": "9c84a7aa-32cf-4fa2-ae67-f441743f3957",
   "metadata": {},
   "outputs": [],
   "source": [
    "# Spotify Authentication\n",
    "sp = spotipy.Spotify(auth_manager=SpotifyOAuth(\n",
    "    client_id=CLIENT_ID,\n",
    "    client_secret=CLIENT_SECRET,\n",
    "    redirect_uri=\"http://localhost:8888/callback\",  # Changed port, You can add 5000, 5001, 5002 ports too.\n",
    "    scope=\"playlist-modify-private user-read-private\",\n",
    "    show_dialog=True,\n",
    "    cache_path=\"token.txt\"\n",
    "))\n",
    "user_id = sp.current_user()[\"id\"]"
   ]
  },
  {
   "cell_type": "code",
   "execution_count": null,
   "id": "a9e57490-db89-4cb2-adf6-916b33f099cb",
   "metadata": {},
   "outputs": [],
   "source": [
    "# Searching Spotify for songs by title\n",
    "song_uris = []\n",
    "year = date.split(\"-\")[0]\n",
    "for song in song_names:\n",
    "    result = sp.search(q=f\"track:{song} year:{year}\", type=\"track\")\n",
    "    try:\n",
    "        uri = result[\"tracks\"][\"items\"][0][\"uri\"]\n",
    "        song_uris.append(uri)\n",
    "    except IndexError:\n",
    "        print(f\"{song} doesn't exist on Spotify. Skipped.\")"
   ]
  },
  {
   "cell_type": "code",
   "execution_count": null,
   "id": "d22aaec1-4902-485d-990c-2e72c9ffc2f0",
   "metadata": {},
   "outputs": [],
   "source": [
    "# Creating a new private playlist in Spotify\n",
    "playlist = sp.user_playlist_create(user=user_id, name=f\"{date} Billboard 100\", public=False)\n",
    "sp.playlist_add_items(playlist_id=playlist[\"id\"], items=song_uris)"
   ]
  },
  {
   "cell_type": "code",
   "execution_count": null,
   "id": "b28d7e77-e4c2-4d0e-a160-2fa3f43bf93c",
   "metadata": {},
   "outputs": [],
   "source": [
    "# Extracting audio features for the songs in the playlist\n",
    "audio_features = []\n",
    "for song_uri in song_uris:\n",
    "    features = sp.audio_features(song_uri)[0]\n",
    "    audio_features.append(features)"
   ]
  },
  {
   "cell_type": "code",
   "execution_count": null,
   "id": "b0f2ef02-0fb6-4223-ba56-d16bc7f65680",
   "metadata": {},
   "outputs": [],
   "source": [
    "# Convert audio features to DataFrame\n",
    "features_df = pd.DataFrame(audio_features)\n",
    "features_df = features_df[['danceability', 'energy', 'tempo', 'valence']]"
   ]
  },
  {
   "cell_type": "code",
   "execution_count": null,
   "id": "918a0bb8-a16e-47e9-af56-f46ea0274c1d",
   "metadata": {},
   "outputs": [],
   "source": [
    "features_df"
   ]
  },
  {
   "cell_type": "code",
   "execution_count": null,
   "id": "eaa33580-d295-4a40-85cb-730e7e97b58b",
   "metadata": {},
   "outputs": [],
   "source": [
    "def get_recommendations(features_df, n_neighbors=5):\n",
    "    # Fit KNN to the playlist songs' audio features\n",
    "    knn = NearestNeighbors(n_neighbors=n_neighbors)\n",
    "\n",
    "    # Convert DataFrame to numpy array (samples, features)\n",
    "    knn.fit(features_df.values)\n",
    "\n",
    "    # Use KNN to recommend similar songs (comparing each song with others)\n",
    "    distances, indices = knn.kneighbors(features_df.values)\n",
    "\n",
    "    # Get song URIs based on KNN recommendations (excluding self-references)\n",
    "    recommended_song_uris = []\n",
    "    for i in range(len(indices)):\n",
    "        for idx in indices[i]:\n",
    "            if idx != i:  # Exclude the song itself\n",
    "                recommended_song_uris.append(song_uris[idx])\n",
    "\n",
    "    return list(set(recommended_song_uris))  # Remove duplicates"
   ]
  },
  {
   "cell_type": "code",
   "execution_count": null,
   "id": "178f497b-ff45-4eff-804e-0e01e5ce46f6",
   "metadata": {},
   "outputs": [],
   "source": [
    "# Get recommended songs based on audio features\n",
    "recommended_song_uris = get_recommendations(features_df)"
   ]
  },
  {
   "cell_type": "code",
   "execution_count": null,
   "id": "14053701-8381-4c36-b85d-7bc1a92e7278",
   "metadata": {},
   "outputs": [],
   "source": [
    "# Add the recommended songs to the playlist\n",
    "if recommended_song_uris:\n",
    "    sp.playlist_add_items(playlist_id=playlist[\"id\"], items=recommended_song_uris)\n",
    "\n",
    "print(f\"Added {len(recommended_song_uris)} recommended songs to the playlist.\")"
   ]
  }
 ],
 "metadata": {
  "kernelspec": {
   "display_name": "Python 3 (ipykernel)",
   "language": "python",
   "name": "python3"
  },
  "language_info": {
   "codemirror_mode": {
    "name": "ipython",
    "version": 3
   },
   "file_extension": ".py",
   "mimetype": "text/x-python",
   "name": "python",
   "nbconvert_exporter": "python",
   "pygments_lexer": "ipython3",
   "version": "3.11.7"
  }
 },
 "nbformat": 4,
 "nbformat_minor": 5
}
